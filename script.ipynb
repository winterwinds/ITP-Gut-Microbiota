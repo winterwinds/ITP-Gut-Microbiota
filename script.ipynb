{
 "cells": [
  {
   "cell_type": "code",
   "execution_count": 1,
   "id": "33d25573-c25f-4702-94ff-21804da05d29",
   "metadata": {},
   "outputs": [],
   "source": [
    "from src.data_processing import FeatureManager\n",
    "from src.data_processing import Dataset\n",
    "from src.optimization.model_selection import best_model_by_auc, threshold_by_mcc, best_threshold_by_mcc\n",
    "from src.model import plot_mcc_variation, test_metrics\n",
    "import os"
   ]
  },
  {
   "cell_type": "markdown",
   "id": "760beac6-50d6-4117-9c44-b5120ae499dc",
   "metadata": {},
   "source": [
    "**所有的文件路径你都可以自行用字符串替代，只要路径写对即可**"
   ]
  },
  {
   "cell_type": "markdown",
   "id": "87fdb1a7-5ff5-4888-bc00-d70827bca2e7",
   "metadata": {},
   "source": [
    "## 加载数据文件"
   ]
  },
  {
   "cell_type": "code",
   "execution_count": 2,
   "id": "99fdd947-044d-44eb-afd3-a5f045ff401a",
   "metadata": {},
   "outputs": [],
   "source": [
    "data_path = os.path.join(\"data\",\"processed\",\"cleaned_data.csv\")\n",
    "\n",
    "fm = FeatureManager().get_all_features()\n",
    "\n",
    "# file_path: 文件路径\n",
    "# feature_names: 如果要变动，请修改src/data_processing/feature_manager.py中的self.features变量\n",
    "# target_col: 预测目标列\n",
    "# target_mapping: 将预测目标列中的值转换成1/0，比如这里表示将'group'列中的'R'记为1，'NR'记为0。\n",
    "# split_col: 如果数据文件中已经划分好训练集和测试集，请设置为该列的名称。注意该列的元素必须有且仅有'train'和'test'\n",
    "# split_ratio: 如果没有指定split_col，Dataset类将会根据该比率随机划分训练集和测试集，默认值为0.7\n",
    "\n",
    "dataset = Dataset(file_path = data_path, \n",
    "                  feature_names = fm, \n",
    "                  target_col = 'group',\n",
    "                  target_mapping = {'R':1, 'NR': 0},\n",
    "                  split_col = 'type')\n",
    "\n",
    "X_train = dataset.X_train\n",
    "y_train = dataset.y_train\n",
    "X_test = dataset.X_test\n",
    "y_test = dataset.y_test"
   ]
  },
  {
   "cell_type": "markdown",
   "id": "aafd3da3-e6f8-4f17-845b-532ef6bf0b17",
   "metadata": {},
   "source": [
    "## 如果你没有运行过main.py的话，请先去掉下面这段代码的注释并运行"
   ]
  },
  {
   "cell_type": "code",
   "execution_count": 3,
   "id": "ecb8b747-6d35-460b-a852-1f43bf24a246",
   "metadata": {},
   "outputs": [],
   "source": [
    "# 该函数会在n_split折验证下，\n",
    "# 在src/optimization/search_config.py设置的模型超参数范围中，\n",
    "# 寻找每个模型的roc-auc表现最佳的超参数组合\n",
    "# 并保存模型文件在trained_models文件夹中\n",
    "\n",
    "#models = best_model_by_auc(dataset.X_train, dataset.y_train, n_split=5)\n",
    "\n",
    "# 该函数会对上一个函数返回的models结果中的最佳模型寻找阈值\n",
    "# 并在n_split折验证下，对[min_thres, max_thres]范围内间隔为interval的阈值组合实验，\n",
    "# 计算其mcc随阈值变化的曲线\n",
    "# 并保存在mcc_threshold_curve文件夹中\n",
    "\n",
    "#mcc_variation = threshold_by_mcc(models, dataset.X_train, dataset.y_train, n_split=5, min_thres=0.1, max_thres=0.9, interval=0.1)"
   ]
  },
  {
   "cell_type": "markdown",
   "id": "f077abd0-41e2-4cc7-ac8c-3926072b82f5",
   "metadata": {},
   "source": [
    "## 基于mcc寻找模型最佳阈值"
   ]
  },
  {
   "cell_type": "code",
   "execution_count": 4,
   "id": "72a172de-aafb-4470-86bf-4b47fbc41166",
   "metadata": {},
   "outputs": [],
   "source": [
    "model_path = os.path.join(\"trained_models\", \"SVM_(RBF).pkl\")\n",
    "n_split = 5\n",
    "min_thres = 0.1\n",
    "max_thres = 0.9\n",
    "interval = 0.1\n",
    "\n",
    "# 数据集比较小的话，n_split不建议设置太大\n",
    "# min_thres: 要测试的最小阈值\n",
    "# max_thres: 要测试的最大阈值\n",
    "# interval: 间隔\n",
    "avg_mcc_scores = best_threshold_by_mcc(model_path, X_train, y_train, \n",
    "                                       n_split=n_split, min_thres=min_thres, max_thres=max_thres, interval=interval)"
   ]
  },
  {
   "cell_type": "code",
   "execution_count": 5,
   "id": "8d8e3371-dca9-4c4a-9916-1ea470afe52c",
   "metadata": {},
   "outputs": [
    {
     "name": "stdout",
     "output_type": "stream",
     "text": [
      "{0.4: 0.10012523486435178, 0.5: 0.2521156440134337, 0.6: 0.4521391467207941, 0.7: 0.4034960864477526, 0.8: 0.143074484830962}\n"
     ]
    }
   ],
   "source": [
    "# 返回值是{阈值：对应的MCC值}\n",
    "# 可以拿这个变量去画需要的图\n",
    "print(avg_mcc_scores)"
   ]
  },
  {
   "cell_type": "markdown",
   "id": "e08ff646-4c61-4f1a-b5fb-464103d6ac83",
   "metadata": {},
   "source": [
    "## 在测试集上评估模型"
   ]
  },
  {
   "cell_type": "code",
   "execution_count": 6,
   "id": "57cc6a49-72fc-44fa-8a7c-b66f9d692780",
   "metadata": {},
   "outputs": [],
   "source": [
    "model_to_test = os.path.join(\"trained_models\", \"SVM_(RBF).pkl\")\n",
    "threshold_to_test = 0.5\n",
    "\n",
    "metrics, confusion = test_metrics(model_to_test, dataset.X_test, dataset.y_test, threshold_to_test)"
   ]
  },
  {
   "cell_type": "code",
   "execution_count": 7,
   "id": "a9f59b90-9bf5-4cfc-a81c-b698ce13ce71",
   "metadata": {},
   "outputs": [
    {
     "name": "stdout",
     "output_type": "stream",
     "text": [
      "Metrics:\n",
      "MCC: 0.3475\n",
      "AUC: 0.8116\n",
      "F1: 0.9362\n",
      "Precision: 0.9167\n",
      "Recall: 0.9565\n",
      "Accuracy: 0.8846\n"
     ]
    }
   ],
   "source": [
    "print(\"Metrics:\")\n",
    "for metric, value in metrics.items():\n",
    "    print(f\"{metric}: {value:.4f}\")"
   ]
  },
  {
   "cell_type": "code",
   "execution_count": 8,
   "id": "c1d6631a-e0cf-4207-94a6-239e2f50f26f",
   "metadata": {},
   "outputs": [
    {
     "name": "stdout",
     "output_type": "stream",
     "text": [
      "Confusion:\n",
      "[[ 2  4]\n",
      " [ 2 44]]\n"
     ]
    }
   ],
   "source": [
    "print(\"Confusion:\")\n",
    "print(confusion)"
   ]
  }
 ],
 "metadata": {
  "kernelspec": {
   "display_name": "Python 3 (ipykernel)",
   "language": "python",
   "name": "python3"
  },
  "language_info": {
   "codemirror_mode": {
    "name": "ipython",
    "version": 3
   },
   "file_extension": ".py",
   "mimetype": "text/x-python",
   "name": "python",
   "nbconvert_exporter": "python",
   "pygments_lexer": "ipython3",
   "version": "3.9.21"
  }
 },
 "nbformat": 4,
 "nbformat_minor": 5
}
